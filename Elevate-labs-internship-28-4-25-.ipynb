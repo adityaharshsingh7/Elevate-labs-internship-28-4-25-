{
  "nbformat": 4,
  "nbformat_minor": 0,
  "metadata": {
    "colab": {
      "provenance": [],
      "authorship_tag": "ABX9TyMWTlh0LlX3ASRz/+w5fojQ",
      "include_colab_link": true
    },
    "kernelspec": {
      "name": "python3",
      "display_name": "Python 3"
    },
    "language_info": {
      "name": "python"
    }
  },
  "cells": [
    {
      "cell_type": "markdown",
      "metadata": {
        "id": "view-in-github",
        "colab_type": "text"
      },
      "source": [
        "<a href=\"https://colab.research.google.com/github/adityaharshsingh7/Elevate-labs-internship-28-4-25-/blob/main/Elevate-labs-internship-28-4-25-.ipynb\" target=\"_parent\"><img src=\"https://colab.research.google.com/assets/colab-badge.svg\" alt=\"Open In Colab\"/></a>"
      ]
    },
    {
      "cell_type": "code",
      "source": [
        "import kagglehub\n",
        "\n",
        "# Download latest version\n",
        "path = kagglehub.dataset_download(\"harishkumardatalab/housing-price-prediction\")\n",
        "\n",
        "print(\"Path to dataset files:\", path)"
      ],
      "metadata": {
        "colab": {
          "base_uri": "https://localhost:8080/"
        },
        "id": "XJbPPQsPye94",
        "outputId": "c73bc163-31b6-4325-cfcb-929c4b378845"
      },
      "execution_count": 8,
      "outputs": [
        {
          "output_type": "stream",
          "name": "stdout",
          "text": [
            "Path to dataset files: /kaggle/input/housing-price-prediction\n"
          ]
        }
      ]
    },
    {
      "cell_type": "code",
      "source": [
        "import pandas as pd\n",
        "import os\n",
        "\n",
        "# Assuming the file name is 'Housing.csv'\n",
        "file_path = os.path.join(path, 'Housing.csv')\n",
        "df = pd.read_csv(file_path)\n",
        "\n",
        "# Preview data\n",
        "print(df.head())\n"
      ],
      "metadata": {
        "colab": {
          "base_uri": "https://localhost:8080/"
        },
        "id": "BJlbDosKxxct",
        "outputId": "8bbd9740-6990-4f08-f023-1bf1673395d3"
      },
      "execution_count": 16,
      "outputs": [
        {
          "output_type": "stream",
          "name": "stdout",
          "text": [
            "      price  area  bedrooms  bathrooms  stories mainroad guestroom basement  \\\n",
            "0  13300000  7420         4          2        3      yes        no       no   \n",
            "1  12250000  8960         4          4        4      yes        no       no   \n",
            "2  12250000  9960         3          2        2      yes        no      yes   \n",
            "3  12215000  7500         4          2        2      yes        no      yes   \n",
            "4  11410000  7420         4          1        2      yes       yes      yes   \n",
            "\n",
            "  hotwaterheating airconditioning  parking prefarea furnishingstatus  \n",
            "0              no             yes        2      yes        furnished  \n",
            "1              no             yes        3       no        furnished  \n",
            "2              no              no        2      yes   semi-furnished  \n",
            "3              no             yes        3      yes        furnished  \n",
            "4              no             yes        2       no        furnished  \n"
          ]
        }
      ]
    },
    {
      "cell_type": "code",
      "source": [
        "# Check for missing values\n",
        "print(df.isnull().sum())\n",
        "\n",
        "# Drop missing values (if any)\n",
        "df = df.dropna()\n",
        "\n",
        "# Encode categorical variables\n",
        "df['mainroad'] = df['mainroad'].map({'yes':1, 'no':0})\n",
        "df['guestroom'] = df['guestroom'].map({'yes':1, 'no':0})\n",
        "df['basement'] = df['basement'].map({'yes':1, 'no':0})\n",
        "df['hotwaterheating'] = df['hotwaterheating'].map({'yes':1, 'no':0})\n",
        "df['airconditioning'] = df['airconditioning'].map({'yes':1, 'no':0})\n",
        "df['prefarea'] = df['prefarea'].map({'yes':1, 'no':0})\n",
        "df['furnishingstatus'] = df['furnishingstatus'].map({'furnished':2, 'semi-furnished':1, 'unfurnished':0})\n",
        "\n",
        "print(df.head())\n"
      ],
      "metadata": {
        "colab": {
          "base_uri": "https://localhost:8080/"
        },
        "id": "n7x8toT7x3mU",
        "outputId": "beeabf8e-b52b-4c83-db9c-d97df90d524b"
      },
      "execution_count": 17,
      "outputs": [
        {
          "output_type": "stream",
          "name": "stdout",
          "text": [
            "price               0\n",
            "area                0\n",
            "bedrooms            0\n",
            "bathrooms           0\n",
            "stories             0\n",
            "mainroad            0\n",
            "guestroom           0\n",
            "basement            0\n",
            "hotwaterheating     0\n",
            "airconditioning     0\n",
            "parking             0\n",
            "prefarea            0\n",
            "furnishingstatus    0\n",
            "dtype: int64\n",
            "      price  area  bedrooms  bathrooms  stories  mainroad  guestroom  \\\n",
            "0  13300000  7420         4          2        3         1          0   \n",
            "1  12250000  8960         4          4        4         1          0   \n",
            "2  12250000  9960         3          2        2         1          0   \n",
            "3  12215000  7500         4          2        2         1          0   \n",
            "4  11410000  7420         4          1        2         1          1   \n",
            "\n",
            "   basement  hotwaterheating  airconditioning  parking  prefarea  \\\n",
            "0         0                0                1        2         1   \n",
            "1         0                0                1        3         0   \n",
            "2         1                0                0        2         1   \n",
            "3         1                0                1        3         1   \n",
            "4         1                0                1        2         0   \n",
            "\n",
            "   furnishingstatus  \n",
            "0                 2  \n",
            "1                 2  \n",
            "2                 1  \n",
            "3                 2  \n",
            "4                 2  \n"
          ]
        }
      ]
    },
    {
      "cell_type": "code",
      "source": [
        "# Using only 'area' as a simple example (Simple Linear Regression)\n",
        "X = df[['area']]\n",
        "y = df['price']\n",
        "\n",
        "# OR\n",
        "# For better model (Multiple Linear Regression)\n",
        "# X = df.drop('price', axis=1)  # using all features except price\n"
      ],
      "metadata": {
        "trusted": true,
        "execution": {
          "iopub.status.busy": "2025-03-28T02:53:36.540575Z",
          "iopub.execute_input": "2025-03-28T02:53:36.54083Z",
          "iopub.status.idle": "2025-03-28T02:53:36.902071Z",
          "shell.execute_reply.started": "2025-03-28T02:53:36.540806Z",
          "shell.execute_reply": "2025-03-28T02:53:36.90095Z"
        },
        "id": "J8PKgQb8xJHO"
      },
      "outputs": [],
      "execution_count": 18
    },
    {
      "cell_type": "code",
      "source": [
        "from sklearn.model_selection import train_test_split\n",
        "\n",
        "X_train, X_test, y_train, y_test = train_test_split(X, y, test_size=0.2, random_state=42)\n"
      ],
      "metadata": {
        "id": "ke_1Zab_24mn"
      },
      "execution_count": 19,
      "outputs": []
    },
    {
      "cell_type": "code",
      "source": [
        "from sklearn.linear_model import LinearRegression\n",
        "\n",
        "model = LinearRegression()\n",
        "model.fit(X_train, y_train)\n",
        "\n",
        "y_pred = model.predict(X_test)\n"
      ],
      "metadata": {
        "id": "AnD1V3bX3_L2"
      },
      "execution_count": 20,
      "outputs": []
    },
    {
      "cell_type": "code",
      "source": [
        "from sklearn.metrics import mean_absolute_error, mean_squared_error, r2_score\n",
        "\n",
        "mae = mean_absolute_error(y_test, y_pred)\n",
        "mse = mean_squared_error(y_test, y_pred)\n",
        "r2 = r2_score(y_test, y_pred)\n",
        "\n",
        "print(f\"Mean Absolute Error (MAE): {mae:.2f}\")\n",
        "print(f\"Mean Squared Error (MSE): {mse:.2f}\")\n",
        "print(f\"R² Score: {r2:.2f}\")\n"
      ],
      "metadata": {
        "colab": {
          "base_uri": "https://localhost:8080/"
        },
        "id": "_ZJGmYo64ApG",
        "outputId": "629fec3e-1d36-4e0c-cfa8-bb9a6f0a24ff"
      },
      "execution_count": 21,
      "outputs": [
        {
          "output_type": "stream",
          "name": "stdout",
          "text": [
            "Mean Absolute Error (MAE): 1474748.13\n",
            "Mean Squared Error (MSE): 3675286604768.19\n",
            "R² Score: 0.27\n"
          ]
        }
      ]
    },
    {
      "cell_type": "code",
      "source": [
        "import matplotlib.pyplot as plt\n",
        "\n",
        "plt.figure(figsize=(10,6))\n",
        "plt.scatter(X_test, y_test, color='blue', label='Actual Price')\n",
        "plt.plot(X_test, y_pred, color='red', linewidth=2, label='Regression Line')\n",
        "plt.xlabel('Area')\n",
        "plt.ylabel('Price')\n",
        "plt.title('Area vs Price Regression')\n",
        "plt.legend()\n",
        "plt.show()\n"
      ],
      "metadata": {
        "colab": {
          "base_uri": "https://localhost:8080/",
          "height": 564
        },
        "id": "hHhmcpG74Cf1",
        "outputId": "c38168ef-ed3a-4de7-c86b-4f6caea2f2bc"
      },
      "execution_count": 22,
      "outputs": [
        {
          "output_type": "display_data",
          "data": {
            "text/plain": [
              "<Figure size 1000x600 with 1 Axes>"
            ],
            "image/png": "[encoded data removed]"
          },
          "metadata": {}
        }
      ]
    },
    {
      "cell_type": "code",
      "source": [
        "print(f\"Coefficient (Slope): {model.coef_[0]:.2f}\")\n",
        "print(f\"Intercept: {model.intercept_:.2f}\")\n"
      ],
      "metadata": {
        "colab": {
          "base_uri": "https://localhost:8080/"
        },
        "id": "iHXiIntJ4Er_",
        "outputId": "65eb9f98-0b1c-484b-8adb-c66e693b38ee"
      },
      "execution_count": 23,
      "outputs": [
        {
          "output_type": "stream",
          "name": "stdout",
          "text": [
            "Coefficient (Slope): 425.73\n",
            "Intercept: 2512254.26\n"
          ]
        }
      ]
    }
  ]
}